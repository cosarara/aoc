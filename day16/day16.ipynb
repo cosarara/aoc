{
 "cells": [
  {
   "cell_type": "code",
   "execution_count": 35,
   "metadata": {},
   "outputs": [
    {
     "data": {
      "text/plain": [
       "10×10 Array{Int64,2}:\n",
       " 1  0  -1  0  1   0  -1  0   1   0\n",
       " 0  1   1  0  0  -1  -1  0   0   1\n",
       " 0  0   1  1  1   0   0  0  -1  -1\n",
       " 0  0   0  1  1   1   1  0   0   0\n",
       " 0  0   0  0  1   1   1  1   1   0\n",
       " 0  0   0  0  0   1   1  1   1   1\n",
       " 0  0   0  0  0   0   1  1   1   1\n",
       " 0  0   0  0  0   0   0  1   1   1\n",
       " 0  0   0  0  0   0   0  0   1   1\n",
       " 0  0   0  0  0   0   0  0   0   1"
      ]
     },
     "execution_count": 35,
     "metadata": {},
     "output_type": "execute_result"
    }
   ],
   "source": [
    "base_pattern = [0, 1, 0, -1]\n",
    "function makepatterns(len)\n",
    "    patterns = zeros(Int64, len, len)\n",
    "    for i in 1:len\n",
    "        for j in 1:len\n",
    "            patterns[i, j] = base_pattern[(j ÷ i) % length(base_pattern) + 1]\n",
    "        end\n",
    "    end\n",
    "        \n",
    "    patterns\n",
    "end\n",
    "makepatterns(10)"
   ]
  },
  {
   "cell_type": "code",
   "execution_count": 58,
   "metadata": {},
   "outputs": [
    {
     "data": {
      "text/plain": [
       "1×8 LinearAlgebra.Adjoint{Int64,Array{Int64,1}}:\n",
       " 0  1  0  2  9  4  9  8"
      ]
     },
     "execution_count": 58,
     "metadata": {},
     "output_type": "execute_result"
    }
   ],
   "source": [
    "function step(v)\n",
    "    patterns = makepatterns(length(v))\n",
    "    abs.(patterns * v .% 10)\n",
    "end\n",
    "function nsteps(n, init)\n",
    "    foldl((x, y) -> step(x), 1:n, init=init)\n",
    "end\n",
    "#step([1,2,3,4,5,6,7,8])\n",
    "nsteps(4, [1,2,3,4,5,6,7,8])'"
   ]
  },
  {
   "cell_type": "code",
   "execution_count": 62,
   "metadata": {
    "scrolled": true
   },
   "outputs": [
    {
     "data": {
      "text/plain": [
       "1×5 LinearAlgebra.Adjoint{Int64,Array{Int64,1}}:\n",
       " 1  2  3  4  5"
      ]
     },
     "execution_count": 62,
     "metadata": {},
     "output_type": "execute_result"
    }
   ],
   "source": [
    "function splitbig(s)\n",
    "    v = zeros(Int64, length(s))\n",
    "    for (i, c) in enumerate(s)\n",
    "        v[i] = parse(Int,c)\n",
    "    end\n",
    "    v\n",
    "end\n",
    "splitbig(\"12345\")'"
   ]
  },
  {
   "cell_type": "code",
   "execution_count": 60,
   "metadata": {},
   "outputs": [
    {
     "data": {
      "text/plain": [
       "\"12345\""
      ]
     },
     "execution_count": 60,
     "metadata": {},
     "output_type": "execute_result"
    }
   ],
   "source": [
    "join(splitbig(\"12345\"))"
   ]
  },
  {
   "cell_type": "code",
   "execution_count": 65,
   "metadata": {},
   "outputs": [
    {
     "data": {
      "text/plain": [
       "\"24176176\""
      ]
     },
     "execution_count": 65,
     "metadata": {},
     "output_type": "execute_result"
    }
   ],
   "source": [
    "join(nsteps(100, splitbig(\"80871224585914546619083218645595\")))[1:8]"
   ]
  },
  {
   "cell_type": "code",
   "execution_count": 66,
   "metadata": {},
   "outputs": [
    {
     "data": {
      "text/plain": [
       "\"34694616\""
      ]
     },
     "execution_count": 66,
     "metadata": {},
     "output_type": "execute_result"
    }
   ],
   "source": [
    "input = \"59762770781817719190459920638916297932099919336473880209100837309955133944776196290131062991588533604012789279722697427213158651963842941000227675363260513283349562674004015593737518754413236241876959840076372395821627451178924619604778486903040621916904575053141824939525904676911285446889682089563075562644813747239285344522507666595561570229575009121663303510763018855038153974091471626380638098740818102085542924937522595303462725145620673366476987473519905565346502431123825798174326899538349747404781623195253709212209882530131864820645274994127388201990754296051264021264496618531890752446146462088574426473998601145665542134964041254919435635\"\n",
    "join(nsteps(100, splitbig(input)))[1:8]"
   ]
  }
 ],
 "metadata": {
  "kernelspec": {
   "display_name": "Julia 1.3.0",
   "language": "julia",
   "name": "julia-1.3"
  },
  "language_info": {
   "file_extension": ".jl",
   "mimetype": "application/julia",
   "name": "julia",
   "version": "1.3.0"
  }
 },
 "nbformat": 4,
 "nbformat_minor": 2
}
