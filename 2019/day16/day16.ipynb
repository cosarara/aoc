{
 "cells": [
  {
   "cell_type": "code",
   "execution_count": 252,
   "metadata": {},
   "outputs": [
    {
     "data": {
      "text/plain": [
       "20×20 Array{Int64,2}:\n",
       " 1  0  -1  0  1   0  -1  0   1   0  -1   0   1   0  -1   0   1   0  -1   0\n",
       " 0  1   1  0  0  -1  -1  0   0   1   1   0   0  -1  -1   0   0   1   1   0\n",
       " 0  0   1  1  1   0   0  0  -1  -1  -1   0   0   0   1   1   1   0   0   0\n",
       " 0  0   0  1  1   1   1  0   0   0   0  -1  -1  -1  -1   0   0   0   0   1\n",
       " 0  0   0  0  1   1   1  1   1   0   0   0   0   0  -1  -1  -1  -1  -1   0\n",
       " 0  0   0  0  0   1   1  1   1   1   1   0   0   0   0   0   0  -1  -1  -1\n",
       " 0  0   0  0  0   0   1  1   1   1   1   1   1   0   0   0   0   0   0   0\n",
       " 0  0   0  0  0   0   0  1   1   1   1   1   1   1   1   0   0   0   0   0\n",
       " 0  0   0  0  0   0   0  0   1   1   1   1   1   1   1   1   1   0   0   0\n",
       " 0  0   0  0  0   0   0  0   0   1   1   1   1   1   1   1   1   1   1   0\n",
       " 0  0   0  0  0   0   0  0   0   0   1   1   1   1   1   1   1   1   1   1\n",
       " 0  0   0  0  0   0   0  0   0   0   0   1   1   1   1   1   1   1   1   1\n",
       " 0  0   0  0  0   0   0  0   0   0   0   0   1   1   1   1   1   1   1   1\n",
       " 0  0   0  0  0   0   0  0   0   0   0   0   0   1   1   1   1   1   1   1\n",
       " 0  0   0  0  0   0   0  0   0   0   0   0   0   0   1   1   1   1   1   1\n",
       " 0  0   0  0  0   0   0  0   0   0   0   0   0   0   0   1   1   1   1   1\n",
       " 0  0   0  0  0   0   0  0   0   0   0   0   0   0   0   0   1   1   1   1\n",
       " 0  0   0  0  0   0   0  0   0   0   0   0   0   0   0   0   0   1   1   1\n",
       " 0  0   0  0  0   0   0  0   0   0   0   0   0   0   0   0   0   0   1   1\n",
       " 0  0   0  0  0   0   0  0   0   0   0   0   0   0   0   0   0   0   0   1"
      ]
     },
     "execution_count": 252,
     "metadata": {},
     "output_type": "execute_result"
    }
   ],
   "source": [
    "base_pattern = [0, 1, 0, -1]\n",
    "bpl = length(base_pattern)\n",
    "function makepatterns(len)\n",
    "    patterns = zeros(Int64, len, len)\n",
    "    for i in 1:len\n",
    "        for j in 1:len\n",
    "            patterns[i, j] = base_pattern[(j ÷ i) % length(base_pattern) + 1]\n",
    "        end\n",
    "    end\n",
    "        \n",
    "    patterns\n",
    "end\n",
    "makepatterns(20)"
   ]
  },
  {
   "cell_type": "code",
   "execution_count": 212,
   "metadata": {},
   "outputs": [
    {
     "data": {
      "text/plain": [
       "4×4 Array{Int64,2}:\n",
       " 1  0  -1  0\n",
       " 0  1   1  0\n",
       " 0  0   1  1\n",
       " 0  0   0  1"
      ]
     },
     "execution_count": 212,
     "metadata": {},
     "output_type": "execute_result"
    }
   ],
   "source": [
    "makepatterns(16)[]"
   ]
  },
  {
   "cell_type": "code",
   "execution_count": 145,
   "metadata": {},
   "outputs": [
    {
     "data": {
      "text/plain": [
       "8×8 Array{Int64,2}:\n",
       " 1  0  -1  0  1   0  -1  0\n",
       " 0  1   1  0  0  -1  -1  0\n",
       " 0  0   1  1  1   0   0  0\n",
       " 0  0   0  1  1   1   1  0\n",
       " 0  0   0  0  1   1   1  1\n",
       " 0  0   0  0  0   1   1  1\n",
       " 0  0   0  0  0   0   1  1\n",
       " 0  0   0  0  0   0   0  1"
      ]
     },
     "execution_count": 145,
     "metadata": {},
     "output_type": "execute_result"
    }
   ],
   "source": [
    "makepatterns(8)"
   ]
  },
  {
   "cell_type": "code",
   "execution_count": 68,
   "metadata": {},
   "outputs": [
    {
     "data": {
      "text/plain": [
       "1×8 LinearAlgebra.Adjoint{Int64,Array{Int64,1}}:\n",
       " 0  1  0  2  9  4  9  8"
      ]
     },
     "execution_count": 68,
     "metadata": {},
     "output_type": "execute_result"
    }
   ],
   "source": [
    "function step(v, patterns)\n",
    "    abs.(patterns * v .% 10)\n",
    "end\n",
    "function nsteps(n, init)\n",
    "    patterns = makepatterns(length(init))\n",
    "    foldl((x, y) -> step(x, patterns), 1:n, init=init)\n",
    "end\n",
    "#step([1,2,3,4,5,6,7,8])\n",
    "nsteps(4, [1,2,3,4,5,6,7,8])'"
   ]
  },
  {
   "cell_type": "code",
   "execution_count": 62,
   "metadata": {
    "scrolled": true
   },
   "outputs": [
    {
     "data": {
      "text/plain": [
       "1×5 LinearAlgebra.Adjoint{Int64,Array{Int64,1}}:\n",
       " 1  2  3  4  5"
      ]
     },
     "execution_count": 62,
     "metadata": {},
     "output_type": "execute_result"
    }
   ],
   "source": [
    "function splitbig(s)\n",
    "    v = zeros(Int64, length(s))\n",
    "    for (i, c) in enumerate(s)\n",
    "        v[i] = parse(Int,c)\n",
    "    end\n",
    "    v\n",
    "end\n",
    "splitbig(\"12345\")'"
   ]
  },
  {
   "cell_type": "code",
   "execution_count": 60,
   "metadata": {},
   "outputs": [
    {
     "data": {
      "text/plain": [
       "\"12345\""
      ]
     },
     "execution_count": 60,
     "metadata": {},
     "output_type": "execute_result"
    }
   ],
   "source": [
    "join(splitbig(\"12345\"))"
   ]
  },
  {
   "cell_type": "code",
   "execution_count": 65,
   "metadata": {},
   "outputs": [
    {
     "data": {
      "text/plain": [
       "\"24176176\""
      ]
     },
     "execution_count": 65,
     "metadata": {},
     "output_type": "execute_result"
    }
   ],
   "source": [
    "join(nsteps(100, splitbig(\"80871224585914546619083218645595\")))[1:8]"
   ]
  },
  {
   "cell_type": "code",
   "execution_count": 141,
   "metadata": {},
   "outputs": [
    {
     "data": {
      "text/plain": [
       "\"34694616\""
      ]
     },
     "execution_count": 141,
     "metadata": {},
     "output_type": "execute_result"
    }
   ],
   "source": [
    "input = \"59762770781817719190459920638916297932099919336473880209100837309955133944776196290131062991588533604012789279722697427213158651963842941000227675363260513283349562674004015593737518754413236241876959840076372395821627451178924619604778486903040621916904575053141824939525904676911285446889682089563075562644813747239285344522507666595561570229575009121663303510763018855038153974091471626380638098740818102085542924937522595303462725145620673366476987473519905565346502431123825798174326899538349747404781623195253709212209882530131864820645274994127388201990754296051264021264496618531890752446146462088574426473998601145665542134964041254919435635\"\n",
    "inputv = splitbig(input)\n",
    "v = copy(inputv)\n",
    "join(nsteps(100, v))[1:8]"
   ]
  },
  {
   "cell_type": "code",
   "execution_count": 72,
   "metadata": {
    "collapsed": true
   },
   "outputs": [
    {
     "data": {
      "text/plain": [
       "650×650 Array{Int64,2}:\n",
       " 1  0  -1  0  1   0  -1  0   1   0  -1  …   0  -1   0   1   0  -1  0   1   0\n",
       " 0  1   1  0  0  -1  -1  0   0   1   1      1   1   0   0  -1  -1  0   0   1\n",
       " 0  0   1  1  1   0   0  0  -1  -1  -1      0   0   0  -1  -1  -1  0   0   0\n",
       " 0  0   0  1  1   1   1  0   0   0   0      0   0   1   1   1   1  0   0   0\n",
       " 0  0   0  0  1   1   1  1   1   0   0      0   0   0   1   1   1  1   1   0\n",
       " 0  0   0  0  0   1   1  1   1   1   1  …  -1  -1  -1  -1  -1  -1  0   0   0\n",
       " 0  0   0  0  0   0   1  1   1   1   1     -1  -1   0   0   0   0  0   0   0\n",
       " 0  0   0  0  0   0   0  1   1   1   1      0   0   0   0   0   0  1   1   1\n",
       " 0  0   0  0  0   0   0  0   1   1   1     -1  -1  -1  -1  -1  -1  0   0   0\n",
       " 0  0   0  0  0   0   0  0   0   1   1      0   0   0   0   0   0  0   0   1\n",
       " 0  0   0  0  0   0   0  0   0   0   1  …   0   0   0   0   0   0  0  -1  -1\n",
       " 0  0   0  0  0   0   0  0   0   0   0      1   1   1   1   1   1  0   0   0\n",
       " 0  0   0  0  0   0   0  0   0   0   0      1   1   1   1   1   1  1   1   0\n",
       " ⋮                ⋮                  ⋮  ⋱                   ⋮               \n",
       " 0  0   0  0  0   0   0  0   0   0   0      1   1   1   1   1   1  1   1   1\n",
       " 0  0   0  0  0   0   0  0   0   0   0      1   1   1   1   1   1  1   1   1\n",
       " 0  0   0  0  0   0   0  0   0   0   0  …   1   1   1   1   1   1  1   1   1\n",
       " 0  0   0  0  0   0   0  0   0   0   0      1   1   1   1   1   1  1   1   1\n",
       " 0  0   0  0  0   0   0  0   0   0   0      0   1   1   1   1   1  1   1   1\n",
       " 0  0   0  0  0   0   0  0   0   0   0      0   0   1   1   1   1  1   1   1\n",
       " 0  0   0  0  0   0   0  0   0   0   0      0   0   0   1   1   1  1   1   1\n",
       " 0  0   0  0  0   0   0  0   0   0   0  …   0   0   0   0   1   1  1   1   1\n",
       " 0  0   0  0  0   0   0  0   0   0   0      0   0   0   0   0   1  1   1   1\n",
       " 0  0   0  0  0   0   0  0   0   0   0      0   0   0   0   0   0  1   1   1\n",
       " 0  0   0  0  0   0   0  0   0   0   0      0   0   0   0   0   0  0   1   1\n",
       " 0  0   0  0  0   0   0  0   0   0   0      0   0   0   0   0   0  0   0   1"
      ]
     },
     "execution_count": 72,
     "metadata": {},
     "output_type": "execute_result"
    }
   ],
   "source": [
    "makepatterns(length(inputv))"
   ]
  },
  {
   "cell_type": "code",
   "execution_count": 76,
   "metadata": {},
   "outputs": [
    {
     "name": "stdout",
     "output_type": "stream",
     "text": [
      "  0.273884 seconds (40.02 k allocations: 101.924 MiB, 83.62% gc time)\n"
     ]
    },
    {
     "data": {
      "text/plain": [
       "6500000"
      ]
     },
     "execution_count": 76,
     "metadata": {},
     "output_type": "execute_result"
    }
   ],
   "source": [
    "@time inputv2 = repeat(inputv, outer=[10000])\n",
    "length(inputv2)"
   ]
  },
  {
   "cell_type": "code",
   "execution_count": 142,
   "metadata": {},
   "outputs": [
    {
     "name": "stdout",
     "output_type": "stream",
     "text": [
      "  0.205905 seconds (29.06 k allocations: 1.476 MiB)\n",
      " 15.166119 seconds (13.07 k allocations: 770.766 KiB)\n"
     ]
    },
    {
     "data": {
      "text/plain": [
       "\"92166021\""
      ]
     },
     "execution_count": 142,
     "metadata": {},
     "output_type": "execute_result"
    }
   ],
   "source": [
    "function nmatrixless(n, v, base_pattern)\n",
    "    bpl = length(base_pattern)\n",
    "    outv = zeros(Int64, size(v))\n",
    "    for ni in 1:n\n",
    "        for i in 1:length(v)\n",
    "            outv[i] = 0\n",
    "            for j in i:length(v)\n",
    "                outv[i] += base_pattern[(j ÷ i) % bpl + 1] * v[j]\n",
    "            end\n",
    "            outv[i] = abs(outv[i] % 10)\n",
    "        end\n",
    "        tmp = outv\n",
    "        outv = v\n",
    "        v = tmp\n",
    "    end\n",
    "    v\n",
    "end\n",
    "#function nmatrixless(n, init)\n",
    "#    foldl((x, y) -> matrixless(x), 1:n, init=init)\n",
    "#end\n",
    "v = copy(inputv)\n",
    "inputv\n",
    "@time join(nmatrixless(100, v, base_pattern)[1:8])\n",
    "#@time join(nmatrixless(100, repeat(inputv, outer=[2]), base_pattern))[1:8]\n",
    "#@time join(nmatrixless(100, repeat(inputv, outer=[3]), base_pattern))[1:8]\n",
    "v = copy(inputv)\n",
    "@time join(nmatrixless(100, repeat(v, outer=[10]), base_pattern))[1:8]"
   ]
  },
  {
   "cell_type": "code",
   "execution_count": 143,
   "metadata": {},
   "outputs": [
    {
     "name": "stdout",
     "output_type": "stream",
     "text": [
      "  0.632884 seconds (2.64 k allocations: 154.563 KiB)\n"
     ]
    },
    {
     "data": {
      "text/plain": [
       "\"09394701\""
      ]
     },
     "execution_count": 143,
     "metadata": {},
     "output_type": "execute_result"
    }
   ],
   "source": [
    "v = copy(inputv)\n",
    "@time join(nmatrixless(100, repeat(v, outer=[2]), base_pattern))[1:8]"
   ]
  },
  {
   "cell_type": "code",
   "execution_count": 139,
   "metadata": {},
   "outputs": [
    {
     "name": "stdout",
     "output_type": "stream",
     "text": [
      "  0.185822 seconds (27 allocations: 6.516 KiB)\n"
     ]
    },
    {
     "data": {
      "text/plain": [
       "\"34694616\""
      ]
     },
     "execution_count": 139,
     "metadata": {},
     "output_type": "execute_result"
    }
   ],
   "source": [
    "function matrixless(n, v, base_pattern)\n",
    "    bpl = length(base_pattern)\n",
    "    outv = zeros(Int64, size(v))\n",
    "    for i in 1:length(v)\n",
    "        outv[i] = 0\n",
    "        for j in i:length(v)\n",
    "            outv[i] += base_pattern[(j ÷ i) % bpl + 1] * v[j]\n",
    "        end\n",
    "        outv[i] = abs(outv[i] % 10)\n",
    "    end\n",
    "    outv\n",
    "end\n",
    "function nmatrixless(n, init)\n",
    "    foldl((x, y) -> matrixless(x), 1:n, init=init)\n",
    "end\n",
    "@time join(nmatrixless(100, inputv, base_pattern)[1:8])\n",
    "#inputv"
   ]
  },
  {
   "cell_type": "code",
   "execution_count": 113,
   "metadata": {},
   "outputs": [
    {
     "name": "stdout",
     "output_type": "stream",
     "text": [
      "  1.400898 seconds (3.94 k allocations: 231.641 KiB)\n"
     ]
    },
    {
     "data": {
      "text/plain": [
       "\"88998939\""
      ]
     },
     "execution_count": 113,
     "metadata": {},
     "output_type": "execute_result"
    }
   ],
   "source": [
    "\n",
    "@time join(nmatrixless(100, repeat(inputv, outer=[3]), base_pattern))[1:8]"
   ]
  },
  {
   "cell_type": "code",
   "execution_count": 116,
   "metadata": {},
   "outputs": [
    {
     "name": "stdout",
     "output_type": "stream",
     "text": [
      "  0.187661 seconds (27 allocations: 6.516 KiB)\n"
     ]
    },
    {
     "data": {
      "text/plain": [
       "\"03591228\""
      ]
     },
     "execution_count": 116,
     "metadata": {},
     "output_type": "execute_result"
    }
   ],
   "source": [
    "@time join(nmatrixless(100, inputv, base_pattern)[1:8])\n"
   ]
  },
  {
   "cell_type": "code",
   "execution_count": 146,
   "metadata": {},
   "outputs": [
    {
     "name": "stdout",
     "output_type": "stream",
     "text": [
      "  0.000505 seconds (31 allocations: 1.641 KiB)\n"
     ]
    },
    {
     "data": {
      "text/plain": [
       "\"2646550645\""
      ]
     },
     "execution_count": 146,
     "metadata": {},
     "output_type": "execute_result"
    }
   ],
   "source": [
    "@time join(nmatrixless(2, splitbig(\"1234512345\"), base_pattern))"
   ]
  },
  {
   "cell_type": "code",
   "execution_count": 109,
   "metadata": {},
   "outputs": [
    {
     "name": "stdout",
     "output_type": "stream",
     "text": [
      "  0.000020 seconds (60 allocations: 3.234 KiB)\n"
     ]
    },
    {
     "data": {
      "text/plain": [
       "\"244260487188271465306158\""
      ]
     },
     "execution_count": 109,
     "metadata": {},
     "output_type": "execute_result"
    }
   ],
   "source": [
    "@time join(nmatrixless(2, splitbig(\"123456781234567812345678\"), base_pattern))"
   ]
  },
  {
   "cell_type": "code",
   "execution_count": 250,
   "metadata": {},
   "outputs": [
    {
     "name": "stdout",
     "output_type": "stream",
     "text": [
      "i16\n",
      "i15\n",
      "i14\n",
      "i13\n",
      "i12\n",
      "i11\n",
      "i10\n",
      "i9\n",
      "00000000653061580000000000000000\n",
      "0 128.0\n"
     ]
    }
   ],
   "source": [
    "total_steps = 0\n",
    "\n",
    "function base(n, v, base_pattern, shift)\n",
    "    bpl = length(base_pattern)\n",
    "    outv = zeros(Int64, size(v))\n",
    "    #for i in 1:(n÷2)\n",
    "    #    outv[i] = 0\n",
    "    #    for j in i:n\n",
    "    #        outv[i] += base_pattern[(j÷i+shift) % bpl + 1] * v[j]\n",
    "    #        global total_steps += 1\n",
    "    #    end\n",
    "    #    x = outv[i]\n",
    "    #    outv[i] = abs(outv[i] % 10)\n",
    "    #end\n",
    "    x = 0\n",
    "    for i in n:-1:(n÷2+1)\n",
    "        println(\"i\", i)\n",
    "        x += v[i]\n",
    "        outv[i] = abs(x % 10)\n",
    "    end\n",
    "    outv\n",
    "end\n",
    "\n",
    "println(join(base(16, splitbig(\"12345678123456781234567812345678\"), base_pattern, 0)))\n",
    "println(total_steps, \" \", 16 * 16 / 2)"
   ]
  },
  {
   "cell_type": "code",
   "execution_count": 196,
   "metadata": {},
   "outputs": [
    {
     "data": {
      "text/plain": [
       "\"8610270665306158\""
      ]
     },
     "execution_count": 196,
     "metadata": {},
     "output_type": "execute_result"
    }
   ],
   "source": [
    "join(matrixless(16, splitbig(\"1234567812345678\"), base_pattern))"
   ]
  },
  {
   "cell_type": "code",
   "execution_count": 222,
   "metadata": {},
   "outputs": [
    {
     "data": {
      "text/plain": [
       "8-element Array{Int64,1}:\n",
       " 4\n",
       " 8\n",
       " 2\n",
       " 2\n",
       " 6\n",
       " 1\n",
       " 5\n",
       " 8"
      ]
     },
     "execution_count": 222,
     "metadata": {},
     "output_type": "execute_result"
    }
   ],
   "source": [
    "base(8, splitbig(\"12345678\"), base_pattern, 8)"
   ]
  },
  {
   "cell_type": "code",
   "execution_count": 223,
   "metadata": {},
   "outputs": [
    {
     "data": {
      "text/plain": [
       "8-element Array{Int64,1}:\n",
       " 4\n",
       " 8\n",
       " 2\n",
       " 2\n",
       " 6\n",
       " 1\n",
       " 5\n",
       " 8"
      ]
     },
     "execution_count": 223,
     "metadata": {},
     "output_type": "execute_result"
    }
   ],
   "source": [
    "base(8, splitbig(\"12345678\"), base_pattern, 0)"
   ]
  },
  {
   "cell_type": "code",
   "execution_count": 219,
   "metadata": {},
   "outputs": [
    {
     "data": {
      "text/plain": [
       "8-element Array{Int64,1}:\n",
       "  8\n",
       " 16\n",
       "  4\n",
       "  4\n",
       " 12\n",
       "  2\n",
       " 10\n",
       " 16"
      ]
     },
     "execution_count": 219,
     "metadata": {},
     "output_type": "execute_result"
    }
   ],
   "source": [
    "base(8, splitbig(\"12345678\"), base_pattern, 0) .+ base(8, splitbig(\"12345678\"), base_pattern, 8)"
   ]
  },
  {
   "cell_type": "code",
   "execution_count": 169,
   "metadata": {},
   "outputs": [
    {
     "data": {
      "text/plain": [
       "8-element Array{Int64,1}:\n",
       " 2\n",
       " 3\n",
       " 5\n",
       " 8\n",
       " 6\n",
       " 1\n",
       " 5\n",
       " 8"
      ]
     },
     "execution_count": 169,
     "metadata": {},
     "output_type": "execute_result"
    }
   ],
   "source": [
    "matrixless(5, splitbig(\"00005678\"), base_pattern)"
   ]
  },
  {
   "cell_type": "code",
   "execution_count": 183,
   "metadata": {},
   "outputs": [
    {
     "data": {
      "text/plain": [
       "4-element Array{Int64,1}:\n",
       " 0\n",
       " 0\n",
       " 0\n",
       " 0"
      ]
     },
     "execution_count": 183,
     "metadata": {},
     "output_type": "execute_result"
    }
   ],
   "source": [
    "base(5, splitbig(\"5678\"), base_pattern, 4)"
   ]
  },
  {
   "cell_type": "code",
   "execution_count": 168,
   "metadata": {},
   "outputs": [
    {
     "data": {
      "text/plain": [
       "8-element Array{Int64,1}:\n",
       " 4\n",
       " 8\n",
       " 2\n",
       " 2\n",
       " 6\n",
       " 1\n",
       " 5\n",
       " 8"
      ]
     },
     "execution_count": 168,
     "metadata": {},
     "output_type": "execute_result"
    }
   ],
   "source": [
    "base(5, splitbig(\"12345678\"), base_pattern)"
   ]
  }
 ],
 "metadata": {
  "kernelspec": {
   "display_name": "Julia 1.3.0",
   "language": "julia",
   "name": "julia-1.3"
  },
  "language_info": {
   "file_extension": ".jl",
   "mimetype": "application/julia",
   "name": "julia",
   "version": "1.3.0"
  }
 },
 "nbformat": 4,
 "nbformat_minor": 2
}
